{
  "nbformat": 4,
  "nbformat_minor": 0,
  "metadata": {
    "colab": {
      "name": " Statistical Experiments: A/b testing  & Permutations",
      "provenance": [],
      "collapsed_sections": [
        "ZwXr9QeXMI64",
        "Kprd4HwzjDpH",
        "R_x0Upf8jDty",
        "BP3Ib2IsmGZY",
        "qBfR1Ciksi5U",
        "oDtxBTJdoImJ",
        "cy6qf2czsIvu",
        "de0TCGvXKanX",
        "ikGy9Tgug9qr",
        "IgnS6jRJf_Oj",
        "IoUe735WnMm3",
        "NRDUTygby6-c",
        "vwCLs2q66yoG",
        "dLrbsD6IRkWi",
        "YcQogl-v84Kk",
        "mGdfEb_8ZB1D",
        "JJoOgxrrcWwx",
        "uWImVpVidFgT",
        "BBRDgwbzez_p",
        "X1_R_rBqgSDL",
        "u2ZK0B3sgR-N"
      ],
      "toc_visible": true
    },
    "kernelspec": {
      "name": "python3",
      "display_name": "Python 3"
    }
  },
  "cells": [
    {
      "cell_type": "markdown",
      "metadata": {
        "id": "ZwXr9QeXMI64"
      },
      "source": [
        "#Import Packages\n",
        "\n"
      ]
    },
    {
      "cell_type": "code",
      "metadata": {
        "id": "qZqXYewlLk5f"
      },
      "source": [
        "import  pandas as pd\n",
        "import matplotlib.pyplot as plt\n",
        "from matplotlib.pylab import subplots\n",
        "import scipy as sp\n",
        "import statsmodels.api as st\n",
        "from statsmodels.formula.api import ols\n",
        "from statsmodels.stats import power\n",
        "from scipy.stats import f_oneway\n",
        "import seaborn as sns\n",
        "import numpy as np \n",
        "import random\n",
        "from scipy.stats import chi2_contingency\n",
        "from scipy.stats import ttest_ind"
      ],
      "execution_count": null,
      "outputs": []
    },
    {
      "cell_type": "markdown",
      "metadata": {
        "id": "Kprd4HwzjDpH"
      },
      "source": [
        "#Designing Experiemnts\n",
        "##The cornerstone of the practice of statistics\n",
        "#The Classical significance statistical inference Pipeline\n",
        "\n",
        "1. Formulate Hypothesis\n",
        "2. Design Experiment\n",
        "3. Collect Data\n",
        "4. Inference Conclusions\n"
      ]
    },
    {
      "cell_type": "code",
      "metadata": {
        "id": "cnixNwd0LjeM"
      },
      "source": [
        ""
      ],
      "execution_count": null,
      "outputs": []
    },
    {
      "cell_type": "markdown",
      "metadata": {
        "id": "R_x0Upf8jDty"
      },
      "source": [
        "#A/B Testing\n",
        "##An A/B test is an experiment with two groups to establish which of two treatments, products, procedures, or the like is superior\n",
        "\n",
        "**KEY TERMS FOR A/B TESTING**\n",
        "\n",
        "**Treatment**\n",
        "Something (drug, price, web headline) to which a subject is exposed.\n",
        "\n",
        "**Treatment group**\n",
        "A group of subjects exposed to a specific treatment.\n",
        "\n",
        "**Control group**\n",
        "A group of subjects exposed to no (or standard) treatment.\n",
        "\n",
        "**Randomization**\n",
        "The process of randomly assigning subjects to treatments.\n",
        "\n",
        "**Subjects**\n",
        "The items (web visitors, patients, etc.) that are exposed to treatments.\n",
        "\n",
        "**Test statistic**\n",
        "The metric used to measure the effect of the treatment.\n",
        "\n",
        "A/B tests are common in web design and marketing, since results are so readily measured. Some examples include:\n",
        "\n",
        "*  Testing two soil treatments to determine which produces better seed germination\n",
        "\n",
        "*  Testing two therapies to determine which suppresses cancer more effectively\n",
        "\n",
        "* Testing two prices to determine which yields more net profit\n",
        "\n",
        "* Testing two web headlines to determine which produces more clisk\n",
        "\n",
        "* Testing two web ads to determine which generates more conversions\n"
      ]
    },
    {
      "cell_type": "markdown",
      "metadata": {
        "id": "BP3Ib2IsmGZY"
      },
      "source": [
        "#Proper A/B Test\n",
        "\n",
        "**A proper a/b test has subjects that can be assigned to one treatment or another. The subject might be a person, a plant seed, a web visitor, the key is that the subject is exposed to the treatment**\n",
        "\n",
        "**Ideally the subjects are randomized (Assigned randomly) to treatments. This insures that any difference between treatment groups is due to one of two things:\n",
        "\n",
        "\n",
        "1.   The effect of the different treatments\n",
        "2.   Luck of the draw in which subjects are assigned to which treatments\n",
        "\n",
        "\n",
        "*Statistical hypothesis testing was invented as a way to protect researchers from being fooled by random chance.*\n",
        "\n"
      ]
    },
    {
      "cell_type": "markdown",
      "metadata": {
        "id": "qBfR1Ciksi5U"
      },
      "source": [
        "#Alternative Hypothesis\n",
        "*Hypothesis tests by their nature involve not just a null hypothesis but also an offsetting alternative hypothesis. Here are some examples:*\n",
        "\n",
        "* Null = “no difference between the means of group A and group B”; alternative = “A is different from B” (could be bigger or smaller)\n",
        "\n",
        "* Null = “A ≤ B”; alternative = “A > B”\n",
        "\n",
        "* Null = “B is not X% greater than A”; alternative = “B is X% greater than A”\n",
        "\n",
        "1. **Directional alternative hypothesis (B is better than A)**. \n",
        "In such a case, you use a **one-way (or one-tail)** hypothesis test. This means that extreme chance results in only one direction count toward the p-value.\n",
        "\n",
        "2.  **Bidirectional alternative hypothesis (A is different from B; could be bigger or smaller**). In such a case, you use a **two-way (or two-tail) hypothesis**. This means that extreme chance results in either direction count toward the p-value.\n",
        "\n"
      ]
    },
    {
      "cell_type": "markdown",
      "metadata": {
        "id": "oDtxBTJdoImJ"
      },
      "source": [
        "# Permutation Steps: Think Shuffling with or without Replacement\n",
        "\n",
        "**Permutation test**\n",
        "The procedure of combining two or more samples together and randomly (or exhaustively) reallocating the observations to resamples.\n",
        "\n",
        "\n",
        "**Resampling**\n",
        "Drawing additional samples (“resamples”) from an observed data set.\n",
        "\n",
        "**With or without replacement**\n",
        "In sampling, whether or not an item is returned to the sample before the next draw.\n",
        "\n"
      ]
    },
    {
      "cell_type": "markdown",
      "metadata": {
        "id": "cy6qf2czsIvu"
      },
      "source": [
        "* Permute means to change the order of a set of values. \n",
        "* The first step in a permutation test of a hypothesis is to combine the results from groups A and B \n",
        "* This is the logical embodiment of the null hypothesis that the treatments to which the groups were exposed do not differ. **Thus combined test and control groups will average no different then the first test (proving the null hypothesis**\n",
        "\n",
        "\n",
        "1. Combine the results from the different groups into a single data set\n",
        "\n",
        "2. **Shuffle** the combined data and then **randomly draw (without replacement)** a reasample of the same size as group A \n",
        "\n",
        "3. From the remaining data, randomly draw(without replacemnet) a  resample of the same size as group B\n",
        "\n",
        "4. Do the same for groups C,D and so on. You have now collected one set of resamples that mirror the sizes of the orgional samples\n",
        "\n",
        "5. Whatever statistic or estimae was calculated for the orgional samples (e.g., difference in group proportions), calculate it not for the resamples, and record; this constitutes one permutation iteration\n",
        "\n",
        "6. Repeat the previous steps n times to uield a permutation distributions of the test statistic\n",
        "\n",
        "##Now Compare the observed difference between the two original groups and your permuted groups differences, \n",
        "\n",
        "#IF the observation lies well within the set of permuted differences then we FAIL to Reject the Null Hypothesis\n",
        "\n",
        "#However, if the observed difference **lies outside** most of the **permutation distribution**, then we conclude that chance is not responsible. In technical terms, the difference is **statistically significant**. \n"
      ]
    },
    {
      "cell_type": "markdown",
      "metadata": {
        "id": "de0TCGvXKanX"
      },
      "source": [
        "#Example: Web Stickiness\n",
        "\n",
        "-->Company is testing what two web prentations does a better job selling their service\n",
        "--> They have decided to use a **proxy variable** clicks & sessions times"
      ]
    },
    {
      "cell_type": "code",
      "metadata": {
        "colab": {
          "base_uri": "https://localhost:8080/",
          "height": 355
        },
        "id": "hAqqzSESKwyZ",
        "outputId": "291bbd19-a914-4198-f444-032d61bf330c"
      },
      "source": [
        "data = \"https://raw.githubusercontent.com/gedeck/practical-statistics-for-data-scientists/master/data/web_page_data.csv\"\n",
        "session_times = pd.read_csv(data)\n",
        "#print(session_times.head(10))\n",
        "#Make boxplot'\n",
        "plot = session_times.boxplot(by = 'Page', column = 'Time')\n",
        "plot.set_xlabel('')\n",
        "plot.set_ylabel('Time (in seconds)')\n",
        "#It seems that sessions times are longer for Page B, lets test their means\n",
        "mean_a = session_times[session_times.Page == 'Page A'].mean()\n",
        "mean_b = session_times[session_times.Page == 'Page B'].mean()\n",
        "print(\"Difference between two pages average sessions times is {}\".format(mean_b-mean_a))\n",
        "#36 second differnce"
      ],
      "execution_count": null,
      "outputs": [
        {
          "output_type": "stream",
          "text": [
            "Difference between two pages average sessions times is Time    0.356667\n",
            "dtype: float64\n"
          ],
          "name": "stdout"
        },
        {
          "output_type": "stream",
          "text": [
            "/usr/local/lib/python3.6/dist-packages/numpy/core/_asarray.py:83: VisibleDeprecationWarning: Creating an ndarray from ragged nested sequences (which is a list-or-tuple of lists-or-tuples-or ndarrays with different lengths or shapes) is deprecated. If you meant to do this, you must specify 'dtype=object' when creating the ndarray\n",
            "  return array(a, dtype, copy=False, order=order)\n"
          ],
          "name": "stderr"
        },
        {
          "output_type": "display_data",
          "data": {
            "image/png": "[encoded data removed]",
            "text/plain": [
              "<Figure size 432x288 with 1 Axes>"
            ]
          },
          "metadata": {
            "tags": [],
            "needs_background": "light"
          }
        }
      ]
    },
    {
      "cell_type": "markdown",
      "metadata": {
        "id": "hjtfa2GxQwIQ"
      },
      "source": [
        "**The question is whether this difference is within the range of what random chance might produce, i.e., is statistically significant.**\n",
        "\n",
        "\n",
        "**One way to answer this is to apply a permutation test—combine all the times together and then repeatedly shuffle and divide them into groups of 21 (recall that nA=21\n",
        " for page A) and 15 (nB=15\n",
        " for page B).**\n",
        "\n",
        " **To apply a permutation test, we need a function to randomly assign the 36 times to a group of 21 (page A) and a group of 15 (page B)**"
      ]
    },
    {
      "cell_type": "markdown",
      "metadata": {
        "id": "ikGy9Tgug9qr"
      },
      "source": [
        "## random permutation test "
      ]
    },
    {
      "cell_type": "code",
      "metadata": {
        "id": "xEq6G1nOP6Rz"
      },
      "source": [
        "# This function permutes the A & B group and outputes \n",
        "# the mean differences of the random permutations where nA is the count of Page A and nB is the count of Page B\n",
        "\n",
        "def perm_fun (x,nA,nB):\n",
        "  n = nA+nB\n",
        "  idx_B = set(random.sample(range(n),nB))\n",
        "  idx_A = set(range(n)) - idx_B\n",
        "  return x.loc[idx_B].mean()-x.loc[idx_A].mean()\n",
        "\n",
        "nA = len(session_times[session_times.Page == 'Page A'])\n",
        "nB = len(session_times[session_times.Page == 'Page B'])"
      ],
      "execution_count": null,
      "outputs": []
    },
    {
      "cell_type": "code",
      "metadata": {
        "id": "EoN_47llsIQL",
        "colab": {
          "base_uri": "https://localhost:8080/",
          "height": 655
        },
        "outputId": "116ce047-0cf7-47c6-8e40-e74360c5c666"
      },
      "source": [
        "#use perf_fun and permutate sessions times by page Type 1000 times\n",
        "perm_diffs = [perm_fun(session_times.Time, nA, nB) for _ in range(1000)]\n",
        "test_dif = mean_b - mean_a\n",
        "fig, ax = plt.subplots(figsize=(10, 10))\n",
        "ax.hist(perm_diffs, bins=11, rwidth=0.9)\n",
        "ax.axvline(x = .3566, color='black', lw=7)\n",
        "txt = 'Observed\\ndifference'\n",
        "\n",
        "ax.text(.65,.9,txt,transform=ax.transAxes,bbox={'facecolor':'white'})\n",
        "ax.set_xlabel('Session time differences (in seconds)')\n",
        "ax.set_ylabel('Frequency')\n",
        "ax.set_title(\"Frequence Distribution of Mean Differences in 1000 Permutations of Groups A & B\")\n",
        "print(test_dif)"
      ],
      "execution_count": null,
      "outputs": [
        {
          "output_type": "stream",
          "text": [
            "Time    0.356667\n",
            "dtype: float64\n"
          ],
          "name": "stdout"
        },
        {
          "output_type": "display_data",
          "data": {
            "image/png": "[encoded data removed]",
            "text/plain": [
              "<Figure size 720x720 with 1 Axes>"
            ]
          },
          "metadata": {
            "tags": [],
            "needs_background": "light"
          }
        }
      ]
    },
    {
      "cell_type": "markdown",
      "metadata": {
        "id": "Bv0-ze5iYIfs"
      },
      "source": [
        "**italicized text*The histogram above shows that mean difference of random permutations often exceeds the observed difference in times (the vertical line)**"
      ]
    },
    {
      "cell_type": "code",
      "metadata": {
        "colab": {
          "base_uri": "https://localhost:8080/"
        },
        "id": "8hJWWnslUl9R",
        "outputId": "5042fe6a-2c1c-4943-e6f2-b8363d18609c"
      },
      "source": [
        "f = (mean_b - mean_a).astype('float')\n",
        "g = pd.Series(perm_diffs).to_frame()\n",
        "g['bool'] = np.where(g[0] >= \n",
        "                     .3665,'True','False')\n",
        "g['bool'].value_counts()\n",
        "Percentage_True = 130/(1000)\n",
        "\n",
        "\n",
        "\n",
        "print(\"After permutations we find that {}% of the time the diffence in A and B pages can happen proving Ho to be true(there are no distinct difference in the pages that would results in higher revenue)\".format(Percentage_True))\n",
        "print(\"This suggests that the observed difference in time between page A and page B is well within the range of chance variation and thus is not statistically significant.\")"
      ],
      "execution_count": null,
      "outputs": [
        {
          "output_type": "stream",
          "text": [
            "            0   bool\n",
            "0    0.203524  False\n",
            "1   -0.093619  False\n",
            "2    0.134952  False\n",
            "3    0.008095  False\n",
            "4    0.094952  False\n",
            "..        ...    ...\n",
            "995  0.004667  False\n",
            "996 -0.245619  False\n",
            "997 -0.007905  False\n",
            "998 -0.879905  False\n",
            "999  0.050381  False\n",
            "\n",
            "[1000 rows x 2 columns]\n",
            "After permutations we find that 0.13% of the time the diffence in A and B pages can happen proving Ho to be true(there are no distinct difference in the pages that would results in higher revenue)\n",
            "This suggests that the observed difference in time between page A and page B is well within the range of chance variation and thus is not statistically significant.\n"
          ],
          "name": "stdout"
        }
      ]
    },
    {
      "cell_type": "markdown",
      "metadata": {
        "id": "sRBMwlmWcLJC"
      },
      "source": [
        "\n",
        "**This suggests that the observed difference in time between page A and page B is well within the range of chance variation and thus is not statistically significant.**"
      ]
    },
    {
      "cell_type": "markdown",
      "metadata": {
        "id": "IgnS6jRJf_Oj"
      },
      "source": [
        "#Exhaustive and Bootstrap Permutation Tests\n",
        "\n",
        "1. In an **Exhaustive Permutation**\n",
        "test, instead of randomly shuffling and dividing data, it determines all the possible ways it can be divided. These test are also known as *exact tests* due to their statistical property of guaranteeing that the null model will not test as \"significant\" more than the alpha level of the test\n",
        "\n",
        "* good for small data\n",
        "* random perm test work nearly as good on large data without computational effort\n",
        "\n",
        "2. In a **bootstrap permutation** the draws are *with replacement* instead of without\n",
        "\n",
        "\n",
        "##Key Ideas\n",
        "\n",
        "\n",
        "* In a permutation test, multiple samples are combined and then shuffled.\n",
        "\n",
        "* The shuffled values are then divided into resamples, and the statistic of interest is calculated.\n",
        "\n",
        "* This process is then repeated, and the resampled statistic is tabulated.\n",
        "\n",
        "* Comparing the observed value of the statistic to the resampled distribution allows you to judge whether an observed difference between samples might occur by chance.\n",
        "\n",
        "\n",
        "\n"
      ]
    },
    {
      "cell_type": "markdown",
      "metadata": {
        "id": "IoUe735WnMm3"
      },
      "source": [
        "#Statistical Significane & p-values\n",
        "\n",
        "**Statistical significance is how staticians measure whether an experiment yields a reult more extreme than what chance might produce**\n",
        "\n",
        "* If the result is beyond the realm of chance variation, it is said to be statistically significant\n",
        "\n",
        "##Key Terms\n",
        "\n",
        "**p-value**\n",
        "\n",
        "The p-value is the probability of obtaining results as unusual or extreme as the observed results\n",
        "\n",
        "**Alpha**\n",
        "\n",
        "The probability threshold of \"unusualness\" that chance results must surpass for actual outcomes to be deemed statistically signficant\n",
        "\n",
        "**Type 1 error** ie *False Positive*\n",
        "\n",
        "Mistakenly concluding an effect is real (when it is due to chance)\n",
        "\n",
        "**Type 2 error** ie *False Negative*\n",
        "\n",
        "Mistakenly concluding an effect is due to chance (when it is real)\n",
        "\n",
        "\n"
      ]
    },
    {
      "cell_type": "code",
      "metadata": {
        "colab": {
          "base_uri": "https://localhost:8080/"
        },
        "id": "lKYuLYl9nUy9",
        "outputId": "e22243f5-43a7-4b0f-cffc-00fccfedcb4c"
      },
      "source": [
        "\n",
        "\n",
        "data = {'Outcome': ['Conversion','No Conversion'],\n",
        "'Price A': [200, 23539], 'Price B': [182,22406]}\n",
        "\n",
        "pd.DataFrame.from_dict(data)\n",
        "#Price A converts 5% better than Price B \n",
        "Price_A_CRV = (200/(23539+200))*100\n",
        "Price_B_CRV = (182/(22406+182))*100\n",
        "print(Price_A_CRV - Price_B_CRV)\n",
        "#Conversion Rate higher for Price A\n",
        "print(Price_A_CRV)\n",
        "#Conversion rate lowe for Price B\n",
        "print(Price_B_CRV)\n",
        "#Requires statistical test to determine if this due to random varaition due to low CRV rates"
      ],
      "execution_count": null,
      "outputs": [
        {
          "output_type": "stream",
          "text": [
            "0.03675791182059274\n",
            "0.8424954715868402\n",
            "0.8057375597662475\n"
          ],
          "name": "stdout"
        }
      ]
    },
    {
      "cell_type": "markdown",
      "metadata": {
        "id": "NRDUTygby6-c"
      },
      "source": [
        "##Steps to Statistical Signifigance\n",
        "\n",
        "1. Put cards labeled 1 and 0 in a box: this represents the supposed shared conversion rate of 382 ones and 45,945 zeros = 0.008246 = 0.8246%.\n",
        "\n",
        "2. Shuffle and draw out a resample of size 23,739 (same n as price A), and record how many 1s.\n",
        "\n",
        "3. Record the number of 1s in the remaining 22,588 (same n as price B).\n",
        "\n",
        "4. Record the difference in proportion of 1s.\n",
        "\n",
        "5. Repeat steps 2–4.\n",
        "\n",
        "6. How often was the difference >= 0.0368?"
      ]
    },
    {
      "cell_type": "code",
      "metadata": {
        "colab": {
          "base_uri": "https://localhost:8080/"
        },
        "id": "-T321wDSvL5B",
        "outputId": "b269b6bc-27e9-491a-c683-00f4b558d6cc"
      },
      "source": [
        "# Find shared conversion Rate\n",
        "shared_crv = (200+182)/(23539+22406+200+182)\n",
        "print(shared_crv*100)\n",
        "#shuffle and draw out a resample of size 23,739 \n",
        "#(same n as price A), and record how many 1s"
      ],
      "execution_count": null,
      "outputs": [
        {
          "output_type": "stream",
          "text": [
            "0.8245731430915016\n"
          ],
          "name": "stdout"
        }
      ]
    },
    {
      "cell_type": "markdown",
      "metadata": {
        "id": "BSUuTelonL5j"
      },
      "source": [
        ""
      ]
    },
    {
      "cell_type": "code",
      "metadata": {
        "colab": {
          "base_uri": "https://localhost:8080/",
          "height": 594
        },
        "id": "8AH8pZbenLwY",
        "outputId": "352dfb0e-dad4-4ac6-d58f-ef6843e83c04"
      },
      "source": [
        "obs_pct_diff = 100 * (200 / 23739 - 182 / 22588)\n",
        "obs_pct_diff\n",
        "print(f'Observed difference: {obs_pct_diff:.4f}%')\n",
        "#make list of none conversions\n",
        "conversion = [0] * 45945\n",
        "#Add conversions ie 1's \n",
        "conversion.extend([1] * 382)\n",
        "#convert to series\n",
        "#series is equal to the proportion of 1's and 0s in the total pop\n",
        "conversion = pd.Series(conversion)\n",
        "print(conversion.value_counts())\n",
        "#Utilizize permuatation function from past code\n",
        "#perm_fun takes the series we have created(1,0s) & the size of each control and test\n",
        "perf_diffs = [100*perm_fun(conversion,23739,22588) for x in range(1000)]\n",
        "fig, ax = plt.subplots(figsize=(10,5))\n",
        "ax.hist(perm_diffs, bins = 20, rwidth=.9)\n",
        "ax.axvline(x=obs_pct_diff, color='red', lw=2)\n",
        "ax.text(0.06, 200, 'Observed\\ndifference', bbox={'facecolor':'white'})\n",
        "ax.set_xlabel('Conversion rate (percent)')\n",
        "ax.set_ylabel('Frequency')\n",
        "\n",
        "\n",
        "print(obs_pct_diff)"
      ],
      "execution_count": null,
      "outputs": [
        {
          "output_type": "stream",
          "text": [
            "Observed difference: 0.0368%\n",
            "0    45945\n",
            "1      382\n",
            "dtype: int64\n",
            "0.03675791182059275\n"
          ],
          "name": "stdout"
        },
        {
          "output_type": "display_data",
          "data": {
            "image/png": "[encoded data removed]",
            "text/plain": [
              "<Figure size 720x360 with 1 Axes>"
            ]
          },
          "metadata": {
            "tags": [],
            "needs_background": "light"
          }
        }
      ]
    },
    {
      "cell_type": "code",
      "metadata": {
        "colab": {
          "base_uri": "https://localhost:8080/"
        },
        "id": "-RtrsqndTWI8",
        "outputId": "e58d083b-60e8-4b59-e360-334cc8997c09"
      },
      "source": [
        "np.mean(perf_diffs)"
      ],
      "execution_count": null,
      "outputs": [
        {
          "output_type": "execute_result",
          "data": {
            "text/plain": [
              "0.0012909165583130488"
            ]
          },
          "metadata": {
            "tags": []
          },
          "execution_count": 29
        }
      ]
    },
    {
      "cell_type": "markdown",
      "metadata": {
        "id": "_hqgc_Rj6y0U"
      },
      "source": [
        "**Above histogram shows the distrubition of the difference of Conversion Rate between Price A & Price B**\n",
        "\n",
        "**We see that the observed difference of 0.0368% is well within the range of chance variation** -- hence there is no statistical significance to show the Price A is better then Price B **(and it could be do to randome chance)**"
      ]
    },
    {
      "cell_type": "markdown",
      "metadata": {
        "id": "vwCLs2q66yoG"
      },
      "source": [
        "#p-Value\n",
        "\n",
        "##Looking at a graph is not a very precise way to measure statistical significance, so we use p-value\n",
        "\n",
        "**This is the frequency with which the chance model produces a result more extreme than the observed result**\n",
        "\n"
      ]
    },
    {
      "cell_type": "code",
      "metadata": {
        "colab": {
          "base_uri": "https://localhost:8080/"
        },
        "id": "nUyZeBZX6yHo",
        "outputId": "5790b7dd-a5b1-46ff-8004-91e51d515a98"
      },
      "source": [
        "#ESTIMATE A P VALUE \n",
        "#observerd result = 3.68% difference between groups\n",
        "#after 1000 perumutations of random selection and shuffling how often are the two groups\n",
        "#different by 3.68% or more\n",
        "print(\"{}% of the time the Page A and B with have a 3.68% difference in groups or more\".format(np.mean([diff > obs_pct_diff for diff in perf_diffs])))\n",
        "\n"
      ],
      "execution_count": null,
      "outputs": [
        {
          "output_type": "stream",
          "text": [
            "0.343% of the time the Page A and B with have a 3.68% difference in groups or more\n"
          ],
          "name": "stdout"
        }
      ]
    },
    {
      "cell_type": "markdown",
      "metadata": {
        "id": "MK6XKHp_AGni"
      },
      "source": [
        "#Prop Testing\n",
        "\n",
        "In this case we didnt need to use a permutation test to get a p-value!\n",
        "\n",
        "**Since this is a binomial distribution we can approximate the p-value**\n",
        "\n",
        "x = number of successes for each group\n",
        "\n",
        "n = number of trials"
      ]
    },
    {
      "cell_type": "code",
      "metadata": {
        "colab": {
          "base_uri": "https://localhost:8080/"
        },
        "id": "8K7v1F5N1TYx",
        "outputId": "bdf5b829-6bac-4544-c13d-ac408357a325"
      },
      "source": [
        "data = {'Outcome': ['Conversion','No Conversion'],\n",
        "'Price A': [200, 23539], 'Price B': [182,22406]}\n",
        "data\n",
        "# put 1s and 0's in array for each Page type \n",
        "survivors = np.array([[200,23539],[182,22406]])\n",
        "chi2,p_value,df, _ = sp.stats.chi2_contingency(survivors)\n",
        "print(f'p-value for single sided test :{p_value / 2:.4f}')\n",
        "print(f'p-value determined through permutation testing :{np.mean([diff > obs_pct_diff for diff in perf_diffs])}')"
      ],
      "execution_count": null,
      "outputs": [
        {
          "output_type": "stream",
          "text": [
            "p-value for single sided test :0.3498\n",
            "p-value determined through permutation testing :0.343\n"
          ],
          "name": "stdout"
        }
      ]
    },
    {
      "cell_type": "markdown",
      "metadata": {
        "id": "dLrbsD6IRkWi"
      },
      "source": [
        "##p-val controversy\n",
        "\n",
        "p-value is a useful metric in situations where you want to know whether a model result that appears interesting and useful is within the range of normal chance variability\n",
        "\n",
        "**What P-value is trying to be a what it really is**\n",
        "\n",
        "1. The probability that the result is due to chance.\n",
        "2. The probability that, given a chance model, results as extreme as the observed results could occur.\n",
        "\n",
        "A **Type 1 error**, in which you mistakenly conclude an effect is real, when it is really just due to chance (**False Positive**)\n",
        "\n",
        "A **Type 2 error**, in which you mistakenly conclude that an effect is not real (i.e., due to chance), when it actually is real(**False Negative**)\n",
        "\n",
        "The **alpha value** is the threshold of “unusualness” in a null hypothesis chance model.\n",
        "\n",
        "\n",
        "\n",
        "\n",
        "\n",
        "\n",
        "\n",
        "\n"
      ]
    },
    {
      "cell_type": "markdown",
      "metadata": {
        "id": "zsHPIftWRnvm"
      },
      "source": [
        ""
      ]
    },
    {
      "cell_type": "markdown",
      "metadata": {
        "id": "YcQogl-v84Kk"
      },
      "source": [
        "##t-Tests\n",
        "\n",
        "**Test statistic**\n",
        "A metric for the difference or effect of interest.\n",
        "\n",
        "**t-statistic**\n",
        "A standardized version of common test statistics such as means.\n",
        "\n",
        "**t-distribution**\n",
        "A reference distribution (in this case derived from the null hypothesis), to which the observed t-statistic can be compared.\n",
        "\n",
        "* In the 1920s and 1930s, when statistical hypothesis testing was being developed, it was not feasible to randomly shuffle data thousands of times to do a resampling test. \n",
        "\n",
        "* Statisticians found that a good approximation to the permutation (shuffled) distribution was the t-test, based on Gosset’s t-distribution. \n",
        "\n",
        "* It is used for the very common two-sample comparison—A/B test—in which the data is numeric. \n",
        "\n",
        "**In order for the t-distribution to be used without regard to scale, a standardized form of the test statistic must be used**\n",
        "\n",
        "\n"
      ]
    },
    {
      "cell_type": "code",
      "metadata": {
        "id": "h2AAvUOfnLOT",
        "colab": {
          "base_uri": "https://localhost:8080/"
        },
        "outputId": "0283f002-854e-4c60-a0e8-660441ec3f73"
      },
      "source": [
        "#Alternative Hypothesis = Page A session time < Page B Session Time\n",
        "\n",
        "res = sp.stats.ttest_ind(session_times[session_times.Page == 'Page A'].Time,\n",
        "                      session_times[session_times.Page == 'Page B'].Time,\n",
        "                      equal_var=False)\n",
        "print(f'p-value for single sided test: {res.pvalue / 2:.4f}')"
      ],
      "execution_count": null,
      "outputs": [
        {
          "output_type": "stream",
          "text": [
            "p-value for single sided test: 0.1408\n"
          ],
          "name": "stdout"
        }
      ]
    },
    {
      "cell_type": "markdown",
      "metadata": {
        "id": "mGdfEb_8ZB1D"
      },
      "source": [
        "##Multiple Testing\n",
        "\n",
        "KEY TERMS FOR MULTIPLE TESTING\n",
        "\n",
        "**Type 1 error**\n",
        "Mistakenly concluding that an effect is statistically significant.\n",
        "\n",
        "**False discovery rate**\n",
        "Across multiple tests, the rate of making a Type 1 error.\n",
        "\n",
        "**Alpha inflation**\n",
        "The multiple testing phenomenon, in which alpha, the probability of making a Type 1 error, increases as you conduct more tests.\n",
        "\n",
        "**Adjustment of p-values**\n",
        "Accounting for doing multiple tests on the same data.\n",
        "\n",
        "**Overfitting**\n",
        "Fitting the noise.\n",
        "\n",
        "\n",
        "In supervised learning tasks, a holdout set where models are assessed on data that the model has not seen before mitigates this risk. \n",
        "\n",
        "**In statistical and machine learning** tasks not involving a labeled holdout set, the risk of reaching conclusions based on statistical noise persists.\n",
        "\n",
        "**Multiplicity Issues**\n",
        "\n",
        "This issue is related to the problem of overfitting in data mining, or “fitting the model to the noise.” The more variables you add, or the more models you run, the greater the probability that something will emerge as “significant” just by chance.\n",
        "\n",
        "* Checking for multiple pairwise differences across groups\n",
        "\n",
        "* Looking at multiple subgroup results (“we found no significant treatment effect overall, but we did find an effect for unmarried women younger than 30”)\n",
        "\n",
        "* Trying lots of statistical models\n",
        "\n",
        "* Including lots of variables in models\n",
        "\n",
        "* Asking a number of different questions (i.e., different possible outcomes)\n",
        "\n",
        "**Data Science** mitigates multiplicty using hold out sampling & cross validation\n",
        "\n",
        "**When no holdout is available use resampling and simulation heuristics to provide random chance benchmanrks againts which obersrved results can be compared**\n",
        "\n",
        "\n",
        "\n"
      ]
    },
    {
      "cell_type": "markdown",
      "metadata": {
        "id": "JJoOgxrrcWwx"
      },
      "source": [
        "##Degress of Freedom\n",
        "\n",
        "**df = (n-1)**\n",
        "1. If you use n sample with be bias (Downward) if you use n-1 sample will be free of bias\n",
        "2. Not very relevent in the data science world but import for Categorical variables in a logistic regressions model to be n-1"
      ]
    },
    {
      "cell_type": "markdown",
      "metadata": {
        "id": "uWImVpVidFgT"
      },
      "source": [
        "##Anova\n",
        "\n",
        "* Instead of an A/B test suppose we had a comparision of multiple groups A/B/C/D each with numerical data\n",
        "\n",
        "* The statistical procedure that tests for a statistically significant differenec among groups is called analysis of variance or *ANOVA*\n",
        "\n",
        "Key Terms\n",
        "\n",
        "1. **Pairwise comparision**\n",
        "A hypothesis test (of means) between two groups amount multiple groups\n",
        "2. **Omnibu test**\n",
        "A single hypothsis test of the *overall* variance amount multiple group means \n",
        "3. **Decomposition of variance**\n",
        "Seperation of components contributing to an individual value\n",
        "4. **F-statistic**\n",
        "A standardizaed statistic that measures the extent to which difference among group means exceed what might be expected in a chance model\n",
        "5. **SS**\n",
        "\"Sum of Squares\", refering to deviations from some average value"
      ]
    },
    {
      "cell_type": "markdown",
      "metadata": {
        "id": "BBRDgwbzez_p"
      },
      "source": [
        "##Web Stickness for 4 different pages"
      ]
    },
    {
      "cell_type": "code",
      "metadata": {
        "id": "F_6bvgfib93-",
        "colab": {
          "base_uri": "https://localhost:8080/",
          "height": 304
        },
        "outputId": "11ca81df-b056-4358-d258-ea946f09b242"
      },
      "source": [
        "data = \"https://raw.githubusercontent.com/gedeck/practical-statistics-for-data-scientists/master/data/four_sessions.csv\"\n",
        "df = pd.read_csv(data)\n",
        "\n",
        "df.groupby('Page')['Time'].mean().to_frame()\n",
        "\n",
        "#Make boxplot'\n",
        "plot = df.boxplot(by = 'Page', column = 'Time')\n",
        "plot.set_xlabel('')\n",
        "plot.set_ylabel('Time (in seconds)')"
      ],
      "execution_count": null,
      "outputs": [
        {
          "output_type": "execute_result",
          "data": {
            "text/plain": [
              "Text(0, 0.5, 'Time (in seconds)')"
            ]
          },
          "metadata": {
            "tags": []
          },
          "execution_count": 33
        },
        {
          "output_type": "display_data",
          "data": {
            "image/png": "[encoded data removed]",
            "text/plain": [
              "<Figure size 432x288 with 1 Axes>"
            ]
          },
          "metadata": {
            "tags": [],
            "needs_background": "light"
          }
        }
      ]
    },
    {
      "cell_type": "markdown",
      "metadata": {
        "id": "X1_R_rBqgSDL"
      },
      "source": [
        "##ANOVA Steps\n",
        "\n",
        "The procedure used to test this is ANOVA. The basis for it can be seen in the following resampling procedure (specified here for the A/B/C/D test of web page stickiness):\n",
        "\n",
        "1. Combine all the data together in a single box.\n",
        "\n",
        "2. Shuffle and draw out four resamples of five values each.\n",
        "\n",
        "3. Record the mean of each of the four groups.\n",
        "\n",
        "4. Record the variance among the four group means.\n",
        "\n",
        "5. Repeat steps 2–4 many (say, 1,000) times.\n",
        "\n",
        "**What proportion of the time did the resampled variance exceed the observed variance?** This is the p-value."
      ]
    },
    {
      "cell_type": "code",
      "metadata": {
        "colab": {
          "base_uri": "https://localhost:8080/",
          "height": 420
        },
        "id": "2OlmBzJegyxX",
        "outputId": "e8be0d39-a1fe-49b0-a607-879e3ef84976"
      },
      "source": [
        "observed_variance = df.groupby('Page').mean().var()[0]\n",
        "#variance betweeen the mean of each page group session time is meausred\n",
        "print('Observed Variance:' ,observed_variance)\n",
        "#observed means are also listed\n",
        "print('Observed means:', df.groupby('Page').mean().values.ravel())\n",
        "#Create permutation function to shuffle and draw out samples \n",
        "\n",
        "def perm_test(df):\n",
        "  df = df.copy()\n",
        "  df['Time'] = np.random.permutation(df['Time'].values)\n",
        "  return df.groupby('Page').mean().var()[0]\n",
        "\n",
        "perm_variance = [perm_test(df) for x in range(3000)]\n",
        "# This outputs suggest that 8.86% of the time the response rate among the 4\n",
        "# pages might differ as much as was actually. obeserved, just by chance!\n",
        "# If alpha (threshold of unusal behavior) is 5% we fail to reject the Null Hypothesis\n",
        "print('Pr(Prob)', np.mean([x > observed_variance for x in perm_variance]))\n",
        "fig, ax = plt.subplots(figsize=(5, 5))\n",
        "ax.hist(perm_variance, bins=11, rwidth=0.9)\n",
        "ax.axvline(x = observed_variance, color='black', lw=2)\n",
        "ax.text(60, 200, 'Observed\\nvariance', bbox={'facecolor':'white'})\n",
        "ax.set_xlabel('Variance')\n",
        "ax.set_ylabel('Frequency')\n",
        "\n",
        "plt.tight_layout()\n",
        "plt.show()"
      ],
      "execution_count": null,
      "outputs": [
        {
          "output_type": "stream",
          "text": [
            "Observed Variance: 55.426666666666655\n",
            "Observed means: [172.8 182.6 175.6 164.6]\n",
            "Pr(Prob) 0.082\n"
          ],
          "name": "stdout"
        },
        {
          "output_type": "display_data",
          "data": {
            "image/png": "[encoded data removed]",
            "text/plain": [
              "<Figure size 360x360 with 1 Axes>"
            ]
          },
          "metadata": {
            "tags": [],
            "needs_background": "light"
          }
        }
      ]
    },
    {
      "cell_type": "markdown",
      "metadata": {
        "id": "7UYgtyeqk-ZB"
      },
      "source": [
        "**so we conclude that the difference among the four pages could have arisen by chance**"
      ]
    },
    {
      "cell_type": "markdown",
      "metadata": {
        "id": "u2ZK0B3sgR-N"
      },
      "source": [
        "##F-Statistic\n",
        "\n",
        "Just like the t-test can be used instead of a permutation test for comparing the mean of two groups, there is a statistical test for ANOVA based on the *F-Statistic*\n",
        "\n",
        "1. The F-statistic is based on the ratio of the variance across group means (i.e., the treatment effect) to the variance due to residual error. \n",
        "\n",
        "2. **The higher this ratio, the more statistically significant the result.**\n",
        "\n",
        "3. **The F-statistic is based on the ratio of the variance across group means**"
      ]
    },
    {
      "cell_type": "code",
      "metadata": {
        "colab": {
          "base_uri": "https://localhost:8080/"
        },
        "id": "LILyidN_dX1U",
        "outputId": "68ac1a27-17cd-4e84-9cd2-4fd84e6501bb"
      },
      "source": [
        "model = ols('Time ~ C(Page)', data=df).fit()\n",
        "#anova_table = st.stats.anova_lm(model, typ=2)\n",
        "#anova_table\n",
        "\n",
        "anova_table = st.stats.anova_lm(model)\n",
        "anova_table\n",
        "\n",
        "#LOW F value mens that little variance in y is explained by X variables fail to reject\n",
        "\n",
        "#PR>F is 7.7% still not less than 5% alpha threshold mean that the variation could be due to randome chance\n",
        "\n",
        "res = sp.stats.f_oneway(df[df.Page == 'Page 1'].Time, \n",
        "                     df[df.Page == 'Page 2'].Time,\n",
        "                     df[df.Page == 'Page 3'].Time,\n",
        "                     df[df.Page == 'Page 4'].Time)\n",
        "print(f'F-Statistic: {res.statistic / 2:.4f}')\n",
        "print(f'p-value: {res.pvalue / 2:.4f}')\n",
        "print(anova_table.head(10))\n"
      ],
      "execution_count": null,
      "outputs": [
        {
          "output_type": "stream",
          "text": [
            "F-Statistic: 1.3699\n",
            "p-value: 0.0388\n",
            "            df  sum_sq     mean_sq         F    PR(>F)\n",
            "C(Page)    3.0   831.4  277.133333  2.739825  0.077586\n",
            "Residual  16.0  1618.4  101.150000       NaN       NaN\n"
          ],
          "name": "stdout"
        }
      ]
    },
    {
      "cell_type": "code",
      "metadata": {
        "id": "UvtgZnBzxHlc"
      },
      "source": [
        ""
      ],
      "execution_count": null,
      "outputs": []
    },
    {
      "cell_type": "markdown",
      "metadata": {
        "id": "sq9hyoNzsEfq"
      },
      "source": [
        "\n",
        "* ANOVA is a statistical procedure for analyzing the results of an experiment with multiple groups.\n",
        "\n",
        "* The null hypothesis says that nothing you put in your regression equation helps explain your outcome variable. The alternative hypothesis humbly states that at least one explanatory variable helped explain the outcome variable.\n",
        "\n",
        "The test statistic is an F-statistic that is given by\n",
        "* It is the extension of similar procedures for the A/B test, used to assess whether the overall variation among groups is within the range of chance variation.\n",
        "\n",
        "* A useful outcome of ANOVA is the identification of variance components associated with group treatments, interaction effects, and errors."
      ]
    },
    {
      "cell_type": "markdown",
      "metadata": {
        "id": "WitDx24P_si-"
      },
      "source": [
        "# Decomposition of Variance\n",
        "\n",
        "Observed values in a data set can be considered sums of different components.\n",
        "\n",
        "**Decomposition of Variance**\n",
        "\n",
        "For any observed data value within a data set includes:\n",
        "\n",
        "1.Grand Average\n",
        "\n",
        "2.The treatment effect\n",
        "\n",
        "3.the residual error"
      ]
    },
    {
      "cell_type": "markdown",
      "metadata": {
        "id": "8939OVLfE0Ux"
      },
      "source": [
        "##Explained Variability\n",
        "\n",
        "The **Sum of Squares Explained (SSE)** (sometimes referred to as the Sum of Squares Regression) is a measure of the variability in the outcome variable that is **explained** by the explanatory variables, i.e. the x-variables in your regression. It is given by the following sum:\n",
        "\n",
        "# > Indented block\n",
        "\n",
        "\n",
        "\n",
        "**SSE=∑(ŷ i−y¯)^2**\n",
        "\n",
        "^^sum of your predicitions minus mean(best guess) **squared**\n",
        "\n",
        "**dfE = # of explained variables**\n",
        "\n",
        "**MSE=SSE/dfE**\n",
        "\n",
        "*Mean Sum of squared explained*\n",
        "\n",
        "##Residual or Unexplained Variablity\n",
        "\n",
        "**Sum of Squares Residual(SSR)** OR (**Sum of Squared Errors(SSE)**  is a measure of the variability in the outcome varaible that is not explained by your regression\n",
        "\n",
        "**SSR=∑=(yi−ŷ)^2**\n",
        "\n",
        "**MSR = SSE/DFr**\n",
        "\n",
        "**RMSR = sqrt(MSR)**\n",
        "\n",
        "##Total Variability\n",
        "\n",
        "**SST = SSE + SSR**\n",
        "\n",
        "**R^2 = SSE /SST**\n",
        "\n",
        "**F = MSE/MSR**"
      ]
    },
    {
      "cell_type": "markdown",
      "metadata": {
        "id": "Lv0GK0KtKKkO"
      },
      "source": [
        "#Two Way Anova\n",
        "\n",
        "In which you have 4 groups and 2 varying weekday types(Weekend and Weekday)\n",
        "\n",
        "IE \n",
        "\n",
        "1. Group A: Weekend\n",
        "2. Group A: Weekday\n",
        "3. Group B: Weekday \n",
        "4. etc\n",
        "\n",
        "\n",
        "\n",
        "\n"
      ]
    },
    {
      "cell_type": "code",
      "metadata": {
        "id": "mwdJ-qS6pXgU"
      },
      "source": [
        ""
      ],
      "execution_count": null,
      "outputs": []
    },
    {
      "cell_type": "code",
      "metadata": {
        "colab": {
          "base_uri": "https://localhost:8080/"
        },
        "id": "hwwPPewzLIrZ",
        "outputId": "428979af-51c4-4c86-c48d-8a77e4fae52d"
      },
      "source": [
        "np.sqrt(101.2)"
      ],
      "execution_count": null,
      "outputs": [
        {
          "output_type": "execute_result",
          "data": {
            "text/plain": [
              "10.059821071967434"
            ]
          },
          "metadata": {
            "tags": []
          },
          "execution_count": 36
        }
      ]
    },
    {
      "cell_type": "markdown",
      "metadata": {
        "id": "xweVevMUNESH"
      },
      "source": [
        "#Chi-Square Test\n",
        "\n",
        "**The Chi-Square test is used with count data to test how well it fits some expected distribution**\n",
        "\n",
        "* chi-square statistic in statistical practice is with r×c\n",
        " contingency tables \n",
        "  * r*c means \"rows and columns\" -   a  2x3 table has two rows and three columns\n",
        "  \n",
        "\n",
        "\n",
        "\n",
        "\n",
        "\n"
      ]
    },
    {
      "cell_type": "code",
      "metadata": {
        "colab": {
          "base_uri": "https://localhost:8080/"
        },
        "id": "ZtElwdcWROJD",
        "outputId": "66b3e444-345f-4a8f-9182-8149ca063069"
      },
      "source": [
        "db_observed = {'Headline A': [14,986], 'Headline B':[8,992],'Headline C':[12,988]}\n",
        "ob = pd.DataFrame(index = ['Click','No Click'],data = db_observed)\n",
        "db_expected = {'Headline A': [11.33,988.67], 'Headline B':[11.33,988.67],'Headline C':[11.33,988.67]}\n",
        "ex = pd.DataFrame(index = ['Click','No Click'],data=db_expected)\n",
        "#db_expected equals sum(clicks)/sum(total_clicks) ie null hpythoesis\n",
        "#R = Observe - Expected / sqrt(expected)\n",
        "Residuals = (np.subtract(ob,ex)/np.sqrt(ex))**2\n",
        "g = np.sum(Residuals).to_frame()\n",
        "test_stat = g.sum()\n",
        "print('chi_sqaure_test_stat:-->',test_stat)\n"
      ],
      "execution_count": null,
      "outputs": [
        {
          "output_type": "stream",
          "text": [
            "chi_sqaure_test_stat:--> 0    1.666427\n",
            "dtype: float64\n"
          ],
          "name": "stdout"
        }
      ]
    },
    {
      "cell_type": "markdown",
      "metadata": {
        "id": "U9mo1BmX04CT"
      },
      "source": [
        "#Permutation (resampled chi-square statistic) based Chi test "
      ]
    },
    {
      "cell_type": "code",
      "metadata": {
        "colab": {
          "base_uri": "https://localhost:8080/"
        },
        "id": "vMIM7-b00W6D",
        "outputId": "f50c668b-20d0-4f03-c5a3-6c6e7de55071"
      },
      "source": [
        "click_rate = pd.read_csv('https://raw.githubusercontent.com/gedeck/practical-statistics-for-data-scientists/master/data/click_rates.csv')\n",
        "click_rate \n",
        "clicks =click_rate.pivot(index = 'Click', columns = 'Headline', values='Rate')\n",
        "print(clicks)\n",
        "\n",
        "box = [1] * 34\n",
        "box.extend([0] * 2966)\n",
        "random.shuffle(box)\n",
        "\n",
        "def chi2(observed, expected):\n",
        "    pearson_residuals = []\n",
        "    for row, expect in zip(observed, expected):\n",
        "        pearson_residuals.append([(observe - expect) ** 2 / expect\n",
        "                                  for observe in row])\n",
        "    # return sum of squares\n",
        "    return np.sum(pearson_residuals)\n",
        "\n",
        "expected_clicks = 34 / 3\n",
        "expected_noclicks = 1000 - expected_clicks\n",
        "expected = [34 / 3, 1000 - 34 / 3]\n",
        "chi2observed = chi2(clicks.values, expected)\n",
        "\n",
        "def perm_fun(box):\n",
        "    sample_clicks = [sum(random.sample(box, 1000)),\n",
        "                     sum(random.sample(box, 1000)),\n",
        "                     sum(random.sample(box, 1000))]\n",
        "    sample_noclicks = [1000 - n for n in sample_clicks]\n",
        "    return chi2([sample_clicks, sample_noclicks], expected)\n",
        "\n",
        "perm_chi2 = [perm_fun(box) for _ in range(2000)]\n",
        "\n",
        "resampled_p_value = sum(perm_chi2 > chi2observed) / len(perm_chi2)\n",
        "print(f'Observed chi2: {chi2observed:.4f}')\n",
        "print(f'Resampled p-value: {resampled_p_value:.4f}')\n",
        "\n"
      ],
      "execution_count": null,
      "outputs": [
        {
          "output_type": "stream",
          "text": [
            "Headline  Headline A  Headline B  Headline C\n",
            "Click                                       \n",
            "Click             14           8          12\n",
            "No-click         986         992         988\n",
            "Observed chi2: 1.6659\n",
            "Resampled p-value: 0.4965\n"
          ],
          "name": "stdout"
        }
      ]
    },
    {
      "cell_type": "code",
      "metadata": {
        "id": "OMxcZpJ126sr"
      },
      "source": [
        ""
      ],
      "execution_count": null,
      "outputs": []
    },
    {
      "cell_type": "markdown",
      "metadata": {
        "id": "jkoi9LMa27Pu"
      },
      "source": [
        "##Approximating Chi-Square Test: Statistical Theory"
      ]
    },
    {
      "cell_type": "code",
      "metadata": {
        "colab": {
          "base_uri": "https://localhost:8080/"
        },
        "id": "P2l2Z6isoP4O",
        "outputId": "7d423f69-11bd-483a-f70a-22e5723f42c7"
      },
      "source": [
        "chisq, pvalue, df, expected = sp.stats.chi2_contingency(clicks)\n",
        "print(f'Observed chi2: {chi2observed:.4f}')\n",
        "print(f'p-value: {pvalue:.4f}')"
      ],
      "execution_count": null,
      "outputs": [
        {
          "output_type": "stream",
          "text": [
            "Observed chi2: 1.6659\n",
            "p-value: 0.4348\n"
          ],
          "name": "stdout"
        }
      ]
    },
    {
      "cell_type": "markdown",
      "metadata": {
        "id": "X5Ui5FBU3cyn"
      },
      "source": [
        "#R.A Fisher  Test\n",
        "* The chi-square distribution is a good approximation of the shuffled resampling test just described, except when counts are extremely low (single digits, especially five or fewer)\n",
        "\n",
        "* procedure to actually enumerate all the possible rearrangements (permutations) that can occur, tabulate their frequencies, and determine exactly how extreme the observed result"
      ]
    },
    {
      "cell_type": "code",
      "metadata": {
        "id": "FkVEZfKhMOM1"
      },
      "source": [
        ""
      ],
      "execution_count": null,
      "outputs": []
    },
    {
      "cell_type": "markdown",
      "metadata": {
        "id": "WIvLHyKjLa_X"
      },
      "source": [
        "# Power and Sample Size\n",
        "\n",
        "KEY TERMS:\n",
        "\n",
        "**Effect Size** :\n",
        "The minimum size of the effect that you hope to be able to detect in a statistical test : as as a \"a 20% improvement in click rates\"\n",
        "\n",
        "**Power**:The probability of detecting a given effect size with a given sample size\n",
        "\n",
        "**Signifigance Level** : The statistical signifigance level at which the test will be conducted\n",
        "\n",
        "**Sample Size**\n",
        "\n",
        "But it makes sense that **the bigger the actual difference** between treatments A and B, the greater the probability that our experiment will reveal it; and the smaller the difference, the more data will be needed to detect it. \n",
        "\n",
        "IE to detect small differences need more data\n",
        "Large differences easy to detect\n",
        "\n"
      ]
    },
    {
      "cell_type": "markdown",
      "metadata": {
        "id": "o8YNJdQ3NkNv"
      },
      "source": [
        "##Calculating Sample Size using Power, Effect Size, and Sig level with CODE!\n",
        "\n"
      ]
    },
    {
      "cell_type": "code",
      "metadata": {
        "colab": {
          "base_uri": "https://localhost:8080/"
        },
        "id": "t8PvYSr-Nwvz",
        "outputId": "d9774f5c-99ed-4ec8-f4d3-5ae1a946eb92"
      },
      "source": [
        "effect_size = st.stats.proportion_effectsize(0.012, 0.011)\n",
        "analysis = st.stats.TTestIndPower()\n",
        "result = analysis.solve_power(effect_size=effect_size,\n",
        "                              alpha=0.05, power=0.8, alternative='larger')\n",
        "print('Sample Size: %.3f' % result)"
      ],
      "execution_count": null,
      "outputs": [
        {
          "output_type": "stream",
          "text": [
            "Sample Size: 140498.254\n"
          ],
          "name": "stdout"
        }
      ]
    },
    {
      "cell_type": "markdown",
      "metadata": {
        "id": "o_GfoGLAQyXY"
      },
      "source": [
        "Finding out how big a sample size you need requires thinking ahead to the statistical test you plan to conduct.\n",
        "\n",
        "You must specify the minimum size of the effect that you want to detect.\n",
        "\n",
        "You must also specify the required probability of detecting that effect size (power).\n",
        "\n",
        "Finally, you must specify the significance level (alpha) at which the test will be conducted."
      ]
    },
    {
      "cell_type": "markdown",
      "metadata": {
        "id": "229kD_qjPmS-"
      },
      "source": [
        ""
      ]
    },
    {
      "cell_type": "markdown",
      "metadata": {
        "id": "qUbB7WN5PVx7"
      },
      "source": [
        "##Detecting Power\n",
        "\n",
        "1. Start with some hypothetical data that represents your best guess about \n",
        "the data that will result (perhaps based on prior data)—for example, a box with 20 ones and 80 zeros to represent a .200 hitter, or a box with some observations of “time spent on website.”\n",
        "\n",
        "2. Create a second sample simply by adding the desired effect size to the first sample—for example, a second box with 33 ones and 67 zeros, or a second box with 25 seconds added to each initial “time spent on website.”\n",
        "\n",
        "3. Draw a bootstrap sample of size n from each box.\n",
        "\n",
        "4. Conduct a permutation (or formula-based) hypothesis test on the two bootstrap samples and record whether the difference between them is statistically significant.\n",
        "\n",
        "Repeat the preceding two steps many times and determine how often the difference was significant—that’s the estimated power."
      ]
    },
    {
      "cell_type": "code",
      "metadata": {
        "id": "-8b-ocRdPVYh"
      },
      "source": [
        ""
      ],
      "execution_count": null,
      "outputs": []
    },
    {
      "cell_type": "markdown",
      "metadata": {
        "id": "OMXSLhvzO9Dk"
      },
      "source": [
        ""
      ]
    }
  ]
}